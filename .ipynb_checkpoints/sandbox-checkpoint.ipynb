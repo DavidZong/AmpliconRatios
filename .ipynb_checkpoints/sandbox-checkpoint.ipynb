{
 "cells": [
  {
   "cell_type": "code",
   "execution_count": 1,
   "metadata": {},
   "outputs": [
    {
     "name": "stdout",
     "output_type": "stream",
     "text": [
      "hello\n"
     ]
    }
   ],
   "source": [
    "print(\"hello\")"
   ]
  },
  {
   "cell_type": "code",
   "execution_count": 24,
   "metadata": {},
   "outputs": [],
   "source": [
    "# This snippet takes a pair of sequences (the first one in each file) and aligns them\n",
    "# writes the result to output.txt\n",
    "from Bio import SeqIO\n",
    "from Bio import pairwise2\n",
    "from Bio.Seq import Seq\n",
    "\n",
    "def getfirstseq(file):\n",
    "    records = SeqIO.parse(file, \"fastq\")\n",
    "    record = next(records)\n",
    "    return record.seq\n",
    "file1 = \"testdata/DZ01-2_R1_001.fastq\"\n",
    "file2 = \"testdata/DZ01-2_R2_001.fastq\"\n",
    "\n",
    "seq1 = getfirstseq(file1)\n",
    "seq2 = getfirstseq(file2)\n",
    "seq2rc = seq2.reverse_complement()\n",
    "alignment = pairwise2.align.globalxx(seq1, seq2rc)\n",
    "formatted = pairwise2.format_alignment(*alignment[0])\n",
    "with open(\"output.txt\", \"w\") as text_file:\n",
    "    print(formatted, file=text_file)"
   ]
  },
  {
   "cell_type": "code",
   "execution_count": 25,
   "metadata": {},
   "outputs": [
    {
     "data": {
      "text/plain": [
       "'C:\\\\Users\\\\david\\\\Desktop\\\\AmpliconRatios'"
      ]
     },
     "execution_count": 25,
     "metadata": {},
     "output_type": "execute_result"
    }
   ],
   "source": [
    "import os\n",
    "\n",
    "os.getcwd()"
   ]
  },
  {
   "cell_type": "code",
   "execution_count": null,
   "metadata": {
    "collapsed": true
   },
   "outputs": [],
   "source": []
  }
 ],
 "metadata": {
  "kernelspec": {
   "display_name": "Python 3",
   "language": "python",
   "name": "python3"
  },
  "language_info": {
   "codemirror_mode": {
    "name": "ipython",
    "version": 3
   },
   "file_extension": ".py",
   "mimetype": "text/x-python",
   "name": "python",
   "nbconvert_exporter": "python",
   "pygments_lexer": "ipython3",
   "version": "3.6.2"
  }
 },
 "nbformat": 4,
 "nbformat_minor": 2
}
